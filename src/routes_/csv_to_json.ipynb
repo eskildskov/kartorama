{
 "metadata": {
  "language_info": {
   "codemirror_mode": {
    "name": "ipython",
    "version": 3
   },
   "file_extension": ".py",
   "mimetype": "text/x-python",
   "name": "python",
   "nbconvert_exporter": "python",
   "pygments_lexer": "ipython3",
   "version": "3.7.5-final"
  },
  "orig_nbformat": 2,
  "kernelspec": {
   "name": "python3",
   "display_name": "Python 3.7.5 64-bit ('kartorama-oN6iexAw-py3.7')",
   "metadata": {
    "interpreter": {
     "hash": "b0155f9583def1e8e5610bc868acb3441016b2ad38c806ab185b6d5ceb9de676"
    }
   }
  }
 },
 "nbformat": 4,
 "nbformat_minor": 2,
 "cells": [
  {
   "cell_type": "code",
   "execution_count": 5,
   "metadata": {},
   "outputs": [],
   "source": [
    "import csv\n",
    "import json\n",
    "import re\n",
    "import pandas as pd\n",
    "import numpy as np\n"
   ]
  },
  {
   "cell_type": "code",
   "execution_count": 6,
   "metadata": {},
   "outputs": [],
   "source": [
    "routes = pd.read_csv('Skiturer Sunnmøre - Turer.csv')\n",
    "\n",
    "columns = {\n",
    "  'Fjell': 'mountain_name',\n",
    "  'Himmelretning (topp til bunn)': 'aspect',\n",
    "  'Område': 'area',\n",
    "  'Rute': 'route_name',\n",
    "  'Høyeste startsted': 'max_start_altitude',\n",
    "  'Løsneområder': 'avalanche_start_zones',\n",
    "  'Terrengfeller': 'terrain_traps',\n",
    "  'KAST': 'kast_score'\n",
    "}\n",
    "\n",
    "routes = routes.rename(columns=columns)\n",
    "routes = routes.dropna(how='all', axis='columns')\n",
    "routes = routes.fillna('')"
   ]
  },
  {
   "cell_type": "code",
   "execution_count": 7,
   "metadata": {},
   "outputs": [
    {
     "output_type": "error",
     "ename": "KeyError",
     "evalue": "'geojson'",
     "traceback": [
      "\u001b[0;31m---------------------------------------------------------------------------\u001b[0m",
      "\u001b[0;31mKeyError\u001b[0m                                  Traceback (most recent call last)",
      "\u001b[0;32m<ipython-input-7-b851871f8c3c>\u001b[0m in \u001b[0;36m<module>\u001b[0;34m\u001b[0m\n\u001b[1;32m      2\u001b[0m \u001b[0;34m\u001b[0m\u001b[0m\n\u001b[1;32m      3\u001b[0m \u001b[0;32mfor\u001b[0m \u001b[0mroute\u001b[0m \u001b[0;32min\u001b[0m \u001b[0mroutes_dict\u001b[0m\u001b[0;34m:\u001b[0m\u001b[0;34m\u001b[0m\u001b[0;34m\u001b[0m\u001b[0m\n\u001b[0;32m----> 4\u001b[0;31m       \u001b[0;32mif\u001b[0m \u001b[0mroute\u001b[0m\u001b[0;34m[\u001b[0m\u001b[0;34m'geojson'\u001b[0m\u001b[0;34m]\u001b[0m\u001b[0;34m:\u001b[0m\u001b[0;34m\u001b[0m\u001b[0;34m\u001b[0m\u001b[0m\n\u001b[0m\u001b[1;32m      5\u001b[0m         \u001b[0mroute\u001b[0m\u001b[0;34m[\u001b[0m\u001b[0;34m'geojson'\u001b[0m\u001b[0;34m]\u001b[0m \u001b[0;34m=\u001b[0m \u001b[0mjson\u001b[0m\u001b[0;34m.\u001b[0m\u001b[0mloads\u001b[0m\u001b[0;34m(\u001b[0m\u001b[0mroute\u001b[0m\u001b[0;34m[\u001b[0m\u001b[0;34m'geojson'\u001b[0m\u001b[0;34m]\u001b[0m\u001b[0;34m)\u001b[0m\u001b[0;34m\u001b[0m\u001b[0;34m\u001b[0m\u001b[0m\n\u001b[1;32m      6\u001b[0m \u001b[0;34m\u001b[0m\u001b[0m\n",
      "\u001b[0;31mKeyError\u001b[0m: 'geojson'"
     ]
    }
   ],
   "source": [
    "routes_dict = routes.to_dict(orient='records')\n",
    "\n",
    "for route in routes_dict:\n",
    "      if route['geoJSON']:\n",
    "        route['geoJSON'] = json.loads(route['geoJSON'])\n",
    "\n",
    "      if isinstance(route['avalanche_start_zones'], str):\n",
    "        elevation_spans = route['avalanche_start_zones'].replace(',', '.').split('.')\n",
    "        elevation_spans = [tuple(span.strip().split(':')) for span in elevation_spans]\n",
    "        route['start_zones'] = elevation_spans\n",
    "routes_dict"
   ]
  },
  {
   "cell_type": "code",
   "execution_count": 4,
   "metadata": {},
   "outputs": [],
   "source": [
    "with open('routes.json', 'w') as file:\n",
    "    file.write(json.dumps(routes_dict))\n"
   ]
  }
 ]
}